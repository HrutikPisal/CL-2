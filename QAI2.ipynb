{
 "cells": [
  {
   "cell_type": "code",
   "execution_count": 3,
   "id": "aae5beee",
   "metadata": {},
   "outputs": [],
   "source": [
    "#implement quantum teleportation algo in python"
   ]
  },
  {
   "cell_type": "code",
   "execution_count": 2,
   "id": "c195f8c2",
   "metadata": {},
   "outputs": [],
   "source": [
    "from qiskit.circuit import QuantumCircuit\n",
    "from qiskit.visualization import plot_histogram\n",
    "from qiskit_aer import AerSimulator\n",
    "from qiskit import transpile\n"
   ]
  },
  {
   "cell_type": "code",
   "execution_count": 3,
   "id": "621069a9",
   "metadata": {},
   "outputs": [],
   "source": [
    "circuit = QuantumCircuit(3, 3)"
   ]
  },
  {
   "cell_type": "code",
   "execution_count": 4,
   "id": "d937a38d",
   "metadata": {},
   "outputs": [
    {
     "data": {
      "text/html": [
       "<pre style=\"word-wrap: normal;white-space: pre;background: #fff0;line-height: 1.1;font-family: &quot;Courier New&quot;,Courier,monospace\">     ┌───┐ ░                ┌───┐ ░ ┌─┐    ░         \n",
       "q_0: ┤ X ├─░─────────────■──┤ H ├─░─┤M├────░───────■─\n",
       "     └───┘ ░ ┌───┐     ┌─┴─┐└───┘ ░ └╥┘┌─┐ ░       │ \n",
       "q_1: ──────░─┤ H ├──■──┤ X ├──────░──╫─┤M├─░───■───┼─\n",
       "           ░ └───┘┌─┴─┐└───┘      ░  ║ └╥┘ ░ ┌─┴─┐ │ \n",
       "q_2: ──────░──────┤ X ├───────────░──╫──╫──░─┤ X ├─■─\n",
       "           ░      └───┘           ░  ║  ║  ░ └───┘   \n",
       "c: 3/════════════════════════════════╩══╩════════════\n",
       "                                     0  1            </pre>"
      ],
      "text/plain": [
       "     ┌───┐ ░                ┌───┐ ░ ┌─┐    ░         \n",
       "q_0: ┤ X ├─░─────────────■──┤ H ├─░─┤M├────░───────■─\n",
       "     └───┘ ░ ┌───┐     ┌─┴─┐└───┘ ░ └╥┘┌─┐ ░       │ \n",
       "q_1: ──────░─┤ H ├──■──┤ X ├──────░──╫─┤M├─░───■───┼─\n",
       "           ░ └───┘┌─┴─┐└───┘      ░  ║ └╥┘ ░ ┌─┴─┐ │ \n",
       "q_2: ──────░──────┤ X ├───────────░──╫──╫──░─┤ X ├─■─\n",
       "           ░      └───┘           ░  ║  ║  ░ └───┘   \n",
       "c: 3/════════════════════════════════╩══╩════════════\n",
       "                                     0  1            "
      ]
     },
     "execution_count": 4,
     "metadata": {},
     "output_type": "execute_result"
    }
   ],
   "source": [
    "\n",
    "circuit.x(0)\n",
    "circuit.barrier(range(3))\n",
    "circuit.h(1)\n",
    "circuit.cx(1, 2)\n",
    "circuit.cx(0, 1)\n",
    "circuit.h(0)\n",
    "circuit.barrier(range(3))\n",
    "circuit.measure(range(2), range(2))\n",
    "circuit.barrier(range(3))\n",
    "circuit.cx(1, 2)\n",
    "circuit.cz(0, 2)\n",
    "circuit.draw()"
   ]
  },
  {
   "cell_type": "code",
   "execution_count": 5,
   "id": "51f29e48",
   "metadata": {},
   "outputs": [],
   "source": [
    "backend = AerSimulator()\n",
    "qc_compiled = transpile(circuit, backend)"
   ]
  },
  {
   "cell_type": "code",
   "execution_count": 6,
   "id": "a252eef9",
   "metadata": {},
   "outputs": [],
   "source": [
    "job_sim = backend.run(qc_compiled, shots=1024)\n",
    "result_sim = job_sim.result()"
   ]
  },
  {
   "cell_type": "code",
   "execution_count": 7,
   "id": "5223b469",
   "metadata": {},
   "outputs": [
    {
     "name": "stdout",
     "output_type": "stream",
     "text": [
      "{'000': 247, '010': 250, '011': 243, '001': 284}\n"
     ]
    }
   ],
   "source": [
    "counts = result_sim.get_counts(qc_compiled)\n",
    "print(counts)"
   ]
  },
  {
   "cell_type": "code",
   "execution_count": 8,
   "id": "f9064bf9",
   "metadata": {},
   "outputs": [
    {
     "data": {
      "image/png": "[encoded data removed]",
      "text/plain": [
       "<Figure size 640x480 with 1 Axes>"
      ]
     },
     "execution_count": 8,
     "metadata": {},
     "output_type": "execute_result"
    }
   ],
   "source": [
    "plot_histogram(counts)\n"
   ]
  }
 ],
 "metadata": {
  "kernelspec": {
   "display_name": "Python 3 (ipykernel)",
   "language": "python",
   "name": "python3"
  },
  "language_info": {
   "codemirror_mode": {
    "name": "ipython",
    "version": 3
   },
   "file_extension": ".py",
   "mimetype": "text/x-python",
   "name": "python",
   "nbconvert_exporter": "python",
   "pygments_lexer": "ipython3",
   "version": "3.10.9"
  }
 },
 "nbformat": 4,
 "nbformat_minor": 5
}
