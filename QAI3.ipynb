{
 "cells": [
  {
   "cell_type": "code",
   "execution_count": 1,
   "id": "034cf19e",
   "metadata": {},
   "outputs": [],
   "source": [
    "#implementing a 5 qubit quantum fourier transformer"
   ]
  },
  {
   "cell_type": "code",
   "execution_count": 6,
   "id": "1ed3f45a",
   "metadata": {},
   "outputs": [
    {
     "data": {
      "text/html": [
       "<pre style=\"word-wrap: normal;white-space: pre;background: #fff0;line-height: 1.1;font-family: &quot;Courier New&quot;,Courier,monospace\">     ┌───┐┌───┐┌──────┐┌──────┐┌─┐            \n",
       "q_0: ┤ H ├┤ X ├┤0     ├┤0     ├┤M├────────────\n",
       "     ├───┤└───┘│      ││      │└╥┘┌─┐         \n",
       "q_1: ┤ H ├─────┤1     ├┤1     ├─╫─┤M├─────────\n",
       "     ├───┤┌───┐│      ││      │ ║ └╥┘┌─┐      \n",
       "q_2: ┤ H ├┤ X ├┤2 qft ├┤2 qft ├─╫──╫─┤M├──────\n",
       "     ├───┤└───┘│      ││      │ ║  ║ └╥┘┌─┐   \n",
       "q_3: ┤ H ├─────┤3     ├┤3     ├─╫──╫──╫─┤M├───\n",
       "     ├───┤┌───┐│      ││      │ ║  ║  ║ └╥┘┌─┐\n",
       "q_4: ┤ H ├┤ X ├┤4     ├┤4     ├─╫──╫──╫──╫─┤M├\n",
       "     └───┘└───┘└──────┘└──────┘ ║  ║  ║  ║ └╥┘\n",
       "c: 5/═══════════════════════════╩══╩══╩══╩══╩═\n",
       "                                0  1  2  3  4 </pre>"
      ],
      "text/plain": [
       "     ┌───┐┌───┐┌──────┐┌──────┐┌─┐            \n",
       "q_0: ┤ H ├┤ X ├┤0     ├┤0     ├┤M├────────────\n",
       "     ├───┤└───┘│      ││      │└╥┘┌─┐         \n",
       "q_1: ┤ H ├─────┤1     ├┤1     ├─╫─┤M├─────────\n",
       "     ├───┤┌───┐│      ││      │ ║ └╥┘┌─┐      \n",
       "q_2: ┤ H ├┤ X ├┤2 qft ├┤2 qft ├─╫──╫─┤M├──────\n",
       "     ├───┤└───┘│      ││      │ ║  ║ └╥┘┌─┐   \n",
       "q_3: ┤ H ├─────┤3     ├┤3     ├─╫──╫──╫─┤M├───\n",
       "     ├───┤┌───┐│      ││      │ ║  ║  ║ └╥┘┌─┐\n",
       "q_4: ┤ H ├┤ X ├┤4     ├┤4     ├─╫──╫──╫──╫─┤M├\n",
       "     └───┘└───┘└──────┘└──────┘ ║  ║  ║  ║ └╥┘\n",
       "c: 5/═══════════════════════════╩══╩══╩══╩══╩═\n",
       "                                0  1  2  3  4 "
      ]
     },
     "execution_count": 6,
     "metadata": {},
     "output_type": "execute_result"
    }
   ],
   "source": [
    "import numpy as np\n",
    "from qiskit import QuantumRegister, ClassicalRegister\n",
    "from qiskit import QuantumCircuit,transpile\n",
    "from qiskit_aer import AerSimulator\n",
    "\n",
    "from qiskit.circuit.library import QFT\n",
    "# Set up the AerSimulator backend\n",
    "simulator = AerSimulator()\n",
    "\n",
    "q = QuantumRegister(5,'q')\n",
    "c = ClassicalRegister(5,'c')\n",
    "circuit = QuantumCircuit(q,c)\n",
    "\n",
    "\n",
    "circuit = QuantumCircuit(q, c)\n",
    "circuit.h(q) \n",
    "\n",
    "# Apply X gates to specific qubits (as per your original code)\n",
    "circuit.x(q[4])\n",
    "circuit.x(q[2])\n",
    "circuit.x(q[0])\n",
    "\n",
    "# Apply the Quantum Fourier Transform (QFT)\n",
    "qft_circuit = QFT(num_qubits=5, approximation_degree=0, do_swaps=True, inverse=False, insert_barriers=False, name=\"qft\")\n",
    "circuit.append(qft_circuit, q)\n",
    "\n",
    "circuit = circuit.compose(qft_circuit)\n",
    "circuit.measure(q,c) # Measure the qubits and store the result in classical register\n",
    "circuit.draw()\n",
    "\n"
   ]
  },
  {
   "cell_type": "code",
   "execution_count": 7,
   "id": "6a55eb71",
   "metadata": {},
   "outputs": [
    {
     "name": "stdout",
     "output_type": "stream",
     "text": [
      "Job is running...\n",
      "Final job status: JobStatus.INITIALIZING\n",
      "\n",
      " QFT Output\n",
      "-------------\n",
      "{'10111': 37, '00000': 35, '00100': 28, '01101': 35, '00111': 47, '10000': 41, '10010': 34, '10100': 31, '01001': 32, '11111': 32, '00101': 29, '01100': 44, '10011': 32, '11001': 30, '00110': 29, '10001': 26, '10101': 30, '01000': 29, '11011': 37, '11010': 27, '10110': 28, '11100': 26, '01111': 37, '00001': 40, '11000': 26, '00010': 26, '00011': 26, '01110': 30, '01010': 27, '11101': 22, '01011': 23, '11110': 24}\n"
     ]
    }
   ],
   "source": [
    "transpiled_circuit = transpile(circuit, simulator)\n",
    "\n",
    "job = simulator.run(transpiled_circuit,shots=1000)\n",
    "\n",
    "print(\"Job is running...\")\n",
    "print(f\"Final job status: {job.status()}\")\n",
    "\n",
    "job_result = job.result()\n",
    "counts = job_result.get_counts()\n",
    "print(\"\\n QFT Output\")\n",
    "print(\"-------------\")\n",
    "print(counts)\n"
   ]
  }
 ],
 "metadata": {
  "kernelspec": {
   "display_name": "Python 3 (ipykernel)",
   "language": "python",
   "name": "python3"
  },
  "language_info": {
   "codemirror_mode": {
    "name": "ipython",
    "version": 3
   },
   "file_extension": ".py",
   "mimetype": "text/x-python",
   "name": "python",
   "nbconvert_exporter": "python",
   "pygments_lexer": "ipython3",
   "version": "3.10.9"
  }
 },
 "nbformat": 4,
 "nbformat_minor": 5
}
